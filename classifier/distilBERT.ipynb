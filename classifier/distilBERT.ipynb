{
 "cells": [
  {
   "cell_type": "code",
   "execution_count": 1,
   "metadata": {},
   "outputs": [],
   "source": [
    "import numpy as np\n",
    "import pandas as pd\n",
    "import scanpy\n",
    "import cell2sentence\n",
    "import torch\n",
    "from transformers import DistilBertForSequenceClassification, DistilBertTokenizerFast, Trainer, TrainingArguments\n",
    "from datasets import load_dataset, load_metric, Dataset"
   ]
  },
  {
   "cell_type": "code",
   "execution_count": 2,
   "metadata": {},
   "outputs": [],
   "source": [
    "eso = scanpy.read_h5ad(\"data/eso.h5ad\")"
   ]
  },
  {
   "cell_type": "code",
   "execution_count": 3,
   "metadata": {},
   "outputs": [
    {
     "data": {
      "text/html": [
       "<div>\n",
       "<style scoped>\n",
       "    .dataframe tbody tr th:only-of-type {\n",
       "        vertical-align: middle;\n",
       "    }\n",
       "\n",
       "    .dataframe tbody tr th {\n",
       "        vertical-align: top;\n",
       "    }\n",
       "\n",
       "    .dataframe thead th {\n",
       "        text-align: right;\n",
       "    }\n",
       "</style>\n",
       "<table border=\"1\" class=\"dataframe\">\n",
       "  <thead>\n",
       "    <tr style=\"text-align: right;\">\n",
       "      <th></th>\n",
       "      <th>donor_id</th>\n",
       "      <th>Time</th>\n",
       "      <th>donor_time</th>\n",
       "      <th>organ</th>\n",
       "      <th>sample</th>\n",
       "      <th>n_genes</th>\n",
       "      <th>percent_mito</th>\n",
       "      <th>n_counts</th>\n",
       "      <th>leiden</th>\n",
       "      <th>assay_ontology_term_id</th>\n",
       "      <th>...</th>\n",
       "      <th>author_cell_type</th>\n",
       "      <th>suspension_type</th>\n",
       "      <th>cell_type</th>\n",
       "      <th>assay</th>\n",
       "      <th>disease</th>\n",
       "      <th>organism</th>\n",
       "      <th>sex</th>\n",
       "      <th>tissue</th>\n",
       "      <th>self_reported_ethnicity</th>\n",
       "      <th>development_stage</th>\n",
       "    </tr>\n",
       "    <tr>\n",
       "      <th>index</th>\n",
       "      <th></th>\n",
       "      <th></th>\n",
       "      <th></th>\n",
       "      <th></th>\n",
       "      <th></th>\n",
       "      <th></th>\n",
       "      <th></th>\n",
       "      <th></th>\n",
       "      <th></th>\n",
       "      <th></th>\n",
       "      <th></th>\n",
       "      <th></th>\n",
       "      <th></th>\n",
       "      <th></th>\n",
       "      <th></th>\n",
       "      <th></th>\n",
       "      <th></th>\n",
       "      <th></th>\n",
       "      <th></th>\n",
       "      <th></th>\n",
       "      <th></th>\n",
       "    </tr>\n",
       "  </thead>\n",
       "  <tbody>\n",
       "    <tr>\n",
       "      <th>AAACCTGAGAAGGTTT-1-HCATisStab7413619</th>\n",
       "      <td>328C</td>\n",
       "      <td>0h</td>\n",
       "      <td>328C_0h</td>\n",
       "      <td>Oesophagus</td>\n",
       "      <td>HCATisStab7413619</td>\n",
       "      <td>1976.0</td>\n",
       "      <td>0.043828</td>\n",
       "      <td>9948.0</td>\n",
       "      <td>2</td>\n",
       "      <td>EFO:0009899</td>\n",
       "      <td>...</td>\n",
       "      <td>Epi_stratified</td>\n",
       "      <td>cell</td>\n",
       "      <td>stratified epithelial cell</td>\n",
       "      <td>10x 3' v2</td>\n",
       "      <td>normal</td>\n",
       "      <td>Homo sapiens</td>\n",
       "      <td>female</td>\n",
       "      <td>epithelium of esophagus</td>\n",
       "      <td>unknown</td>\n",
       "      <td>sixth decade human stage</td>\n",
       "    </tr>\n",
       "    <tr>\n",
       "      <th>AAACCTGAGAGTCTGG-1-HCATisStab7413619</th>\n",
       "      <td>328C</td>\n",
       "      <td>0h</td>\n",
       "      <td>328C_0h</td>\n",
       "      <td>Oesophagus</td>\n",
       "      <td>HCATisStab7413619</td>\n",
       "      <td>1960.0</td>\n",
       "      <td>0.057559</td>\n",
       "      <td>8096.0</td>\n",
       "      <td>4</td>\n",
       "      <td>EFO:0009899</td>\n",
       "      <td>...</td>\n",
       "      <td>Epi_stratified</td>\n",
       "      <td>cell</td>\n",
       "      <td>stratified epithelial cell</td>\n",
       "      <td>10x 3' v2</td>\n",
       "      <td>normal</td>\n",
       "      <td>Homo sapiens</td>\n",
       "      <td>female</td>\n",
       "      <td>epithelium of esophagus</td>\n",
       "      <td>unknown</td>\n",
       "      <td>sixth decade human stage</td>\n",
       "    </tr>\n",
       "    <tr>\n",
       "      <th>AAACCTGAGCCCAATT-1-HCATisStab7413619</th>\n",
       "      <td>328C</td>\n",
       "      <td>0h</td>\n",
       "      <td>328C_0h</td>\n",
       "      <td>Oesophagus</td>\n",
       "      <td>HCATisStab7413619</td>\n",
       "      <td>1598.0</td>\n",
       "      <td>0.054264</td>\n",
       "      <td>5805.0</td>\n",
       "      <td>0</td>\n",
       "      <td>EFO:0009899</td>\n",
       "      <td>...</td>\n",
       "      <td>Epi_stratified</td>\n",
       "      <td>cell</td>\n",
       "      <td>stratified epithelial cell</td>\n",
       "      <td>10x 3' v2</td>\n",
       "      <td>normal</td>\n",
       "      <td>Homo sapiens</td>\n",
       "      <td>female</td>\n",
       "      <td>epithelium of esophagus</td>\n",
       "      <td>unknown</td>\n",
       "      <td>sixth decade human stage</td>\n",
       "    </tr>\n",
       "    <tr>\n",
       "      <th>AAACCTGCATGCCCGA-1-HCATisStab7413619</th>\n",
       "      <td>328C</td>\n",
       "      <td>0h</td>\n",
       "      <td>328C_0h</td>\n",
       "      <td>Oesophagus</td>\n",
       "      <td>HCATisStab7413619</td>\n",
       "      <td>1805.0</td>\n",
       "      <td>0.045907</td>\n",
       "      <td>9345.0</td>\n",
       "      <td>2</td>\n",
       "      <td>EFO:0009899</td>\n",
       "      <td>...</td>\n",
       "      <td>Epi_stratified</td>\n",
       "      <td>cell</td>\n",
       "      <td>stratified epithelial cell</td>\n",
       "      <td>10x 3' v2</td>\n",
       "      <td>normal</td>\n",
       "      <td>Homo sapiens</td>\n",
       "      <td>female</td>\n",
       "      <td>epithelium of esophagus</td>\n",
       "      <td>unknown</td>\n",
       "      <td>sixth decade human stage</td>\n",
       "    </tr>\n",
       "    <tr>\n",
       "      <th>AAACCTGTCGAACGGA-1-HCATisStab7413619</th>\n",
       "      <td>328C</td>\n",
       "      <td>0h</td>\n",
       "      <td>328C_0h</td>\n",
       "      <td>Oesophagus</td>\n",
       "      <td>HCATisStab7413619</td>\n",
       "      <td>311.0</td>\n",
       "      <td>0.043103</td>\n",
       "      <td>580.0</td>\n",
       "      <td>9</td>\n",
       "      <td>EFO:0009899</td>\n",
       "      <td>...</td>\n",
       "      <td>T_CD4</td>\n",
       "      <td>cell</td>\n",
       "      <td>CD4-positive, alpha-beta T cell</td>\n",
       "      <td>10x 3' v2</td>\n",
       "      <td>normal</td>\n",
       "      <td>Homo sapiens</td>\n",
       "      <td>female</td>\n",
       "      <td>epithelium of esophagus</td>\n",
       "      <td>unknown</td>\n",
       "      <td>sixth decade human stage</td>\n",
       "    </tr>\n",
       "    <tr>\n",
       "      <th>...</th>\n",
       "      <td>...</td>\n",
       "      <td>...</td>\n",
       "      <td>...</td>\n",
       "      <td>...</td>\n",
       "      <td>...</td>\n",
       "      <td>...</td>\n",
       "      <td>...</td>\n",
       "      <td>...</td>\n",
       "      <td>...</td>\n",
       "      <td>...</td>\n",
       "      <td>...</td>\n",
       "      <td>...</td>\n",
       "      <td>...</td>\n",
       "      <td>...</td>\n",
       "      <td>...</td>\n",
       "      <td>...</td>\n",
       "      <td>...</td>\n",
       "      <td>...</td>\n",
       "      <td>...</td>\n",
       "      <td>...</td>\n",
       "      <td>...</td>\n",
       "    </tr>\n",
       "    <tr>\n",
       "      <th>TTTGTCACATTGGCGC-1-HCATisStabAug177376568</th>\n",
       "      <td>325C</td>\n",
       "      <td>72h</td>\n",
       "      <td>325C_72h</td>\n",
       "      <td>Oesophagus</td>\n",
       "      <td>HCATisStabAug177376568</td>\n",
       "      <td>1205.0</td>\n",
       "      <td>0.002706</td>\n",
       "      <td>11455.0</td>\n",
       "      <td>5</td>\n",
       "      <td>EFO:0009899</td>\n",
       "      <td>...</td>\n",
       "      <td>Epi_upper</td>\n",
       "      <td>cell</td>\n",
       "      <td>epithelial cell</td>\n",
       "      <td>10x 3' v2</td>\n",
       "      <td>normal</td>\n",
       "      <td>Homo sapiens</td>\n",
       "      <td>female</td>\n",
       "      <td>epithelium of esophagus</td>\n",
       "      <td>unknown</td>\n",
       "      <td>fifth decade human stage</td>\n",
       "    </tr>\n",
       "    <tr>\n",
       "      <th>TTTGTCAGTACCGTTA-1-HCATisStabAug177376568</th>\n",
       "      <td>325C</td>\n",
       "      <td>72h</td>\n",
       "      <td>325C_72h</td>\n",
       "      <td>Oesophagus</td>\n",
       "      <td>HCATisStabAug177376568</td>\n",
       "      <td>2462.0</td>\n",
       "      <td>0.048540</td>\n",
       "      <td>11887.0</td>\n",
       "      <td>3</td>\n",
       "      <td>EFO:0009899</td>\n",
       "      <td>...</td>\n",
       "      <td>Epi_suprabasal</td>\n",
       "      <td>cell</td>\n",
       "      <td>epithelial cell</td>\n",
       "      <td>10x 3' v2</td>\n",
       "      <td>normal</td>\n",
       "      <td>Homo sapiens</td>\n",
       "      <td>female</td>\n",
       "      <td>epithelium of esophagus</td>\n",
       "      <td>unknown</td>\n",
       "      <td>fifth decade human stage</td>\n",
       "    </tr>\n",
       "    <tr>\n",
       "      <th>TTTGTCAGTCTGCCAG-1-HCATisStabAug177376568</th>\n",
       "      <td>325C</td>\n",
       "      <td>72h</td>\n",
       "      <td>325C_72h</td>\n",
       "      <td>Oesophagus</td>\n",
       "      <td>HCATisStabAug177376568</td>\n",
       "      <td>2314.0</td>\n",
       "      <td>0.062985</td>\n",
       "      <td>10050.0</td>\n",
       "      <td>0</td>\n",
       "      <td>EFO:0009899</td>\n",
       "      <td>...</td>\n",
       "      <td>Epi_stratified</td>\n",
       "      <td>cell</td>\n",
       "      <td>stratified epithelial cell</td>\n",
       "      <td>10x 3' v2</td>\n",
       "      <td>normal</td>\n",
       "      <td>Homo sapiens</td>\n",
       "      <td>female</td>\n",
       "      <td>epithelium of esophagus</td>\n",
       "      <td>unknown</td>\n",
       "      <td>fifth decade human stage</td>\n",
       "    </tr>\n",
       "    <tr>\n",
       "      <th>TTTGTCAGTTTGACAC-1-HCATisStabAug177376568</th>\n",
       "      <td>325C</td>\n",
       "      <td>72h</td>\n",
       "      <td>325C_72h</td>\n",
       "      <td>Oesophagus</td>\n",
       "      <td>HCATisStabAug177376568</td>\n",
       "      <td>1108.0</td>\n",
       "      <td>0.053808</td>\n",
       "      <td>2639.0</td>\n",
       "      <td>3</td>\n",
       "      <td>EFO:0009899</td>\n",
       "      <td>...</td>\n",
       "      <td>Epi_suprabasal</td>\n",
       "      <td>cell</td>\n",
       "      <td>epithelial cell</td>\n",
       "      <td>10x 3' v2</td>\n",
       "      <td>normal</td>\n",
       "      <td>Homo sapiens</td>\n",
       "      <td>female</td>\n",
       "      <td>epithelium of esophagus</td>\n",
       "      <td>unknown</td>\n",
       "      <td>fifth decade human stage</td>\n",
       "    </tr>\n",
       "    <tr>\n",
       "      <th>TTTGTCATCAGTTCGA-1-HCATisStabAug177376568</th>\n",
       "      <td>325C</td>\n",
       "      <td>72h</td>\n",
       "      <td>325C_72h</td>\n",
       "      <td>Oesophagus</td>\n",
       "      <td>HCATisStabAug177376568</td>\n",
       "      <td>2108.0</td>\n",
       "      <td>0.072790</td>\n",
       "      <td>9342.0</td>\n",
       "      <td>3</td>\n",
       "      <td>EFO:0009899</td>\n",
       "      <td>...</td>\n",
       "      <td>Epi_suprabasal</td>\n",
       "      <td>cell</td>\n",
       "      <td>epithelial cell</td>\n",
       "      <td>10x 3' v2</td>\n",
       "      <td>normal</td>\n",
       "      <td>Homo sapiens</td>\n",
       "      <td>female</td>\n",
       "      <td>epithelium of esophagus</td>\n",
       "      <td>unknown</td>\n",
       "      <td>fifth decade human stage</td>\n",
       "    </tr>\n",
       "  </tbody>\n",
       "</table>\n",
       "<p>87947 rows × 28 columns</p>\n",
       "</div>"
      ],
      "text/plain": [
       "                                          donor_id Time donor_time  \\\n",
       "index                                                                \n",
       "AAACCTGAGAAGGTTT-1-HCATisStab7413619          328C   0h    328C_0h   \n",
       "AAACCTGAGAGTCTGG-1-HCATisStab7413619          328C   0h    328C_0h   \n",
       "AAACCTGAGCCCAATT-1-HCATisStab7413619          328C   0h    328C_0h   \n",
       "AAACCTGCATGCCCGA-1-HCATisStab7413619          328C   0h    328C_0h   \n",
       "AAACCTGTCGAACGGA-1-HCATisStab7413619          328C   0h    328C_0h   \n",
       "...                                            ...  ...        ...   \n",
       "TTTGTCACATTGGCGC-1-HCATisStabAug177376568     325C  72h   325C_72h   \n",
       "TTTGTCAGTACCGTTA-1-HCATisStabAug177376568     325C  72h   325C_72h   \n",
       "TTTGTCAGTCTGCCAG-1-HCATisStabAug177376568     325C  72h   325C_72h   \n",
       "TTTGTCAGTTTGACAC-1-HCATisStabAug177376568     325C  72h   325C_72h   \n",
       "TTTGTCATCAGTTCGA-1-HCATisStabAug177376568     325C  72h   325C_72h   \n",
       "\n",
       "                                                organ                  sample  \\\n",
       "index                                                                           \n",
       "AAACCTGAGAAGGTTT-1-HCATisStab7413619       Oesophagus       HCATisStab7413619   \n",
       "AAACCTGAGAGTCTGG-1-HCATisStab7413619       Oesophagus       HCATisStab7413619   \n",
       "AAACCTGAGCCCAATT-1-HCATisStab7413619       Oesophagus       HCATisStab7413619   \n",
       "AAACCTGCATGCCCGA-1-HCATisStab7413619       Oesophagus       HCATisStab7413619   \n",
       "AAACCTGTCGAACGGA-1-HCATisStab7413619       Oesophagus       HCATisStab7413619   \n",
       "...                                               ...                     ...   \n",
       "TTTGTCACATTGGCGC-1-HCATisStabAug177376568  Oesophagus  HCATisStabAug177376568   \n",
       "TTTGTCAGTACCGTTA-1-HCATisStabAug177376568  Oesophagus  HCATisStabAug177376568   \n",
       "TTTGTCAGTCTGCCAG-1-HCATisStabAug177376568  Oesophagus  HCATisStabAug177376568   \n",
       "TTTGTCAGTTTGACAC-1-HCATisStabAug177376568  Oesophagus  HCATisStabAug177376568   \n",
       "TTTGTCATCAGTTCGA-1-HCATisStabAug177376568  Oesophagus  HCATisStabAug177376568   \n",
       "\n",
       "                                           n_genes  percent_mito  n_counts  \\\n",
       "index                                                                        \n",
       "AAACCTGAGAAGGTTT-1-HCATisStab7413619        1976.0      0.043828    9948.0   \n",
       "AAACCTGAGAGTCTGG-1-HCATisStab7413619        1960.0      0.057559    8096.0   \n",
       "AAACCTGAGCCCAATT-1-HCATisStab7413619        1598.0      0.054264    5805.0   \n",
       "AAACCTGCATGCCCGA-1-HCATisStab7413619        1805.0      0.045907    9345.0   \n",
       "AAACCTGTCGAACGGA-1-HCATisStab7413619         311.0      0.043103     580.0   \n",
       "...                                            ...           ...       ...   \n",
       "TTTGTCACATTGGCGC-1-HCATisStabAug177376568   1205.0      0.002706   11455.0   \n",
       "TTTGTCAGTACCGTTA-1-HCATisStabAug177376568   2462.0      0.048540   11887.0   \n",
       "TTTGTCAGTCTGCCAG-1-HCATisStabAug177376568   2314.0      0.062985   10050.0   \n",
       "TTTGTCAGTTTGACAC-1-HCATisStabAug177376568   1108.0      0.053808    2639.0   \n",
       "TTTGTCATCAGTTCGA-1-HCATisStabAug177376568   2108.0      0.072790    9342.0   \n",
       "\n",
       "                                          leiden assay_ontology_term_id  ...  \\\n",
       "index                                                                    ...   \n",
       "AAACCTGAGAAGGTTT-1-HCATisStab7413619           2            EFO:0009899  ...   \n",
       "AAACCTGAGAGTCTGG-1-HCATisStab7413619           4            EFO:0009899  ...   \n",
       "AAACCTGAGCCCAATT-1-HCATisStab7413619           0            EFO:0009899  ...   \n",
       "AAACCTGCATGCCCGA-1-HCATisStab7413619           2            EFO:0009899  ...   \n",
       "AAACCTGTCGAACGGA-1-HCATisStab7413619           9            EFO:0009899  ...   \n",
       "...                                          ...                    ...  ...   \n",
       "TTTGTCACATTGGCGC-1-HCATisStabAug177376568      5            EFO:0009899  ...   \n",
       "TTTGTCAGTACCGTTA-1-HCATisStabAug177376568      3            EFO:0009899  ...   \n",
       "TTTGTCAGTCTGCCAG-1-HCATisStabAug177376568      0            EFO:0009899  ...   \n",
       "TTTGTCAGTTTGACAC-1-HCATisStabAug177376568      3            EFO:0009899  ...   \n",
       "TTTGTCATCAGTTCGA-1-HCATisStabAug177376568      3            EFO:0009899  ...   \n",
       "\n",
       "                                          author_cell_type suspension_type  \\\n",
       "index                                                                        \n",
       "AAACCTGAGAAGGTTT-1-HCATisStab7413619        Epi_stratified            cell   \n",
       "AAACCTGAGAGTCTGG-1-HCATisStab7413619        Epi_stratified            cell   \n",
       "AAACCTGAGCCCAATT-1-HCATisStab7413619        Epi_stratified            cell   \n",
       "AAACCTGCATGCCCGA-1-HCATisStab7413619        Epi_stratified            cell   \n",
       "AAACCTGTCGAACGGA-1-HCATisStab7413619                 T_CD4            cell   \n",
       "...                                                    ...             ...   \n",
       "TTTGTCACATTGGCGC-1-HCATisStabAug177376568        Epi_upper            cell   \n",
       "TTTGTCAGTACCGTTA-1-HCATisStabAug177376568   Epi_suprabasal            cell   \n",
       "TTTGTCAGTCTGCCAG-1-HCATisStabAug177376568   Epi_stratified            cell   \n",
       "TTTGTCAGTTTGACAC-1-HCATisStabAug177376568   Epi_suprabasal            cell   \n",
       "TTTGTCATCAGTTCGA-1-HCATisStabAug177376568   Epi_suprabasal            cell   \n",
       "\n",
       "                                                                 cell_type  \\\n",
       "index                                                                        \n",
       "AAACCTGAGAAGGTTT-1-HCATisStab7413619            stratified epithelial cell   \n",
       "AAACCTGAGAGTCTGG-1-HCATisStab7413619            stratified epithelial cell   \n",
       "AAACCTGAGCCCAATT-1-HCATisStab7413619            stratified epithelial cell   \n",
       "AAACCTGCATGCCCGA-1-HCATisStab7413619            stratified epithelial cell   \n",
       "AAACCTGTCGAACGGA-1-HCATisStab7413619       CD4-positive, alpha-beta T cell   \n",
       "...                                                                    ...   \n",
       "TTTGTCACATTGGCGC-1-HCATisStabAug177376568                  epithelial cell   \n",
       "TTTGTCAGTACCGTTA-1-HCATisStabAug177376568                  epithelial cell   \n",
       "TTTGTCAGTCTGCCAG-1-HCATisStabAug177376568       stratified epithelial cell   \n",
       "TTTGTCAGTTTGACAC-1-HCATisStabAug177376568                  epithelial cell   \n",
       "TTTGTCATCAGTTCGA-1-HCATisStabAug177376568                  epithelial cell   \n",
       "\n",
       "                                               assay  disease      organism  \\\n",
       "index                                                                         \n",
       "AAACCTGAGAAGGTTT-1-HCATisStab7413619       10x 3' v2   normal  Homo sapiens   \n",
       "AAACCTGAGAGTCTGG-1-HCATisStab7413619       10x 3' v2   normal  Homo sapiens   \n",
       "AAACCTGAGCCCAATT-1-HCATisStab7413619       10x 3' v2   normal  Homo sapiens   \n",
       "AAACCTGCATGCCCGA-1-HCATisStab7413619       10x 3' v2   normal  Homo sapiens   \n",
       "AAACCTGTCGAACGGA-1-HCATisStab7413619       10x 3' v2   normal  Homo sapiens   \n",
       "...                                              ...      ...           ...   \n",
       "TTTGTCACATTGGCGC-1-HCATisStabAug177376568  10x 3' v2   normal  Homo sapiens   \n",
       "TTTGTCAGTACCGTTA-1-HCATisStabAug177376568  10x 3' v2   normal  Homo sapiens   \n",
       "TTTGTCAGTCTGCCAG-1-HCATisStabAug177376568  10x 3' v2   normal  Homo sapiens   \n",
       "TTTGTCAGTTTGACAC-1-HCATisStabAug177376568  10x 3' v2   normal  Homo sapiens   \n",
       "TTTGTCATCAGTTCGA-1-HCATisStabAug177376568  10x 3' v2   normal  Homo sapiens   \n",
       "\n",
       "                                              sex                   tissue  \\\n",
       "index                                                                        \n",
       "AAACCTGAGAAGGTTT-1-HCATisStab7413619       female  epithelium of esophagus   \n",
       "AAACCTGAGAGTCTGG-1-HCATisStab7413619       female  epithelium of esophagus   \n",
       "AAACCTGAGCCCAATT-1-HCATisStab7413619       female  epithelium of esophagus   \n",
       "AAACCTGCATGCCCGA-1-HCATisStab7413619       female  epithelium of esophagus   \n",
       "AAACCTGTCGAACGGA-1-HCATisStab7413619       female  epithelium of esophagus   \n",
       "...                                           ...                      ...   \n",
       "TTTGTCACATTGGCGC-1-HCATisStabAug177376568  female  epithelium of esophagus   \n",
       "TTTGTCAGTACCGTTA-1-HCATisStabAug177376568  female  epithelium of esophagus   \n",
       "TTTGTCAGTCTGCCAG-1-HCATisStabAug177376568  female  epithelium of esophagus   \n",
       "TTTGTCAGTTTGACAC-1-HCATisStabAug177376568  female  epithelium of esophagus   \n",
       "TTTGTCATCAGTTCGA-1-HCATisStabAug177376568  female  epithelium of esophagus   \n",
       "\n",
       "                                          self_reported_ethnicity  \\\n",
       "index                                                               \n",
       "AAACCTGAGAAGGTTT-1-HCATisStab7413619                      unknown   \n",
       "AAACCTGAGAGTCTGG-1-HCATisStab7413619                      unknown   \n",
       "AAACCTGAGCCCAATT-1-HCATisStab7413619                      unknown   \n",
       "AAACCTGCATGCCCGA-1-HCATisStab7413619                      unknown   \n",
       "AAACCTGTCGAACGGA-1-HCATisStab7413619                      unknown   \n",
       "...                                                           ...   \n",
       "TTTGTCACATTGGCGC-1-HCATisStabAug177376568                 unknown   \n",
       "TTTGTCAGTACCGTTA-1-HCATisStabAug177376568                 unknown   \n",
       "TTTGTCAGTCTGCCAG-1-HCATisStabAug177376568                 unknown   \n",
       "TTTGTCAGTTTGACAC-1-HCATisStabAug177376568                 unknown   \n",
       "TTTGTCATCAGTTCGA-1-HCATisStabAug177376568                 unknown   \n",
       "\n",
       "                                                  development_stage  \n",
       "index                                                                \n",
       "AAACCTGAGAAGGTTT-1-HCATisStab7413619       sixth decade human stage  \n",
       "AAACCTGAGAGTCTGG-1-HCATisStab7413619       sixth decade human stage  \n",
       "AAACCTGAGCCCAATT-1-HCATisStab7413619       sixth decade human stage  \n",
       "AAACCTGCATGCCCGA-1-HCATisStab7413619       sixth decade human stage  \n",
       "AAACCTGTCGAACGGA-1-HCATisStab7413619       sixth decade human stage  \n",
       "...                                                             ...  \n",
       "TTTGTCACATTGGCGC-1-HCATisStabAug177376568  fifth decade human stage  \n",
       "TTTGTCAGTACCGTTA-1-HCATisStabAug177376568  fifth decade human stage  \n",
       "TTTGTCAGTCTGCCAG-1-HCATisStabAug177376568  fifth decade human stage  \n",
       "TTTGTCAGTTTGACAC-1-HCATisStabAug177376568  fifth decade human stage  \n",
       "TTTGTCATCAGTTCGA-1-HCATisStabAug177376568  fifth decade human stage  \n",
       "\n",
       "[87947 rows x 28 columns]"
      ]
     },
     "execution_count": 3,
     "metadata": {},
     "output_type": "execute_result"
    }
   ],
   "source": [
    "eso.obs"
   ]
  },
  {
   "cell_type": "code",
   "execution_count": 4,
   "metadata": {},
   "outputs": [
    {
     "name": "stderr",
     "output_type": "stream",
     "text": [
      "100%|██████████| 87947/87947 [00:32<00:00, 2700.13it/s]\n"
     ]
    }
   ],
   "source": [
    "eso_c2s = cell2sentence.transforms.csdata_from_adata(eso)"
   ]
  },
  {
   "cell_type": "code",
   "execution_count": 5,
   "metadata": {},
   "outputs": [],
   "source": [
    "cell_sents = eso_c2s.create_sentence_lists()"
   ]
  },
  {
   "cell_type": "code",
   "execution_count": 6,
   "metadata": {},
   "outputs": [],
   "source": [
    "labels = eso.obs['cell_type'].values\n",
    "labels = [str(label) for label in labels]"
   ]
  },
  {
   "cell_type": "code",
   "execution_count": 7,
   "metadata": {},
   "outputs": [],
   "source": [
    "label2id = dict(enumerate(np.unique(labels)))"
   ]
  },
  {
   "cell_type": "code",
   "execution_count": 8,
   "metadata": {},
   "outputs": [],
   "source": [
    "del(eso, eso_c2s)"
   ]
  },
  {
   "cell_type": "code",
   "execution_count": 9,
   "metadata": {},
   "outputs": [],
   "source": [
    "cell_sents = [inner_list[:10] for inner_list in cell_sents]"
   ]
  },
  {
   "cell_type": "code",
   "execution_count": 10,
   "metadata": {},
   "outputs": [],
   "source": [
    "cell_sents = [' '.join(inner_list) for inner_list in cell_sents]"
   ]
  },
  {
   "cell_type": "code",
   "execution_count": 11,
   "metadata": {},
   "outputs": [],
   "source": [
    "# Create a pandas DataFrame with the sentences and labels\n",
    "data = {\"text\": cell_sents, \"label\": labels}"
   ]
  },
  {
   "cell_type": "code",
   "execution_count": 12,
   "metadata": {},
   "outputs": [],
   "source": [
    "del(cell_sents, labels)"
   ]
  },
  {
   "cell_type": "code",
   "execution_count": 13,
   "metadata": {},
   "outputs": [],
   "source": [
    "# Create the dataset from the pandas DataFrame\n",
    "dataset = Dataset.from_dict(data)"
   ]
  },
  {
   "cell_type": "code",
   "execution_count": 14,
   "metadata": {},
   "outputs": [
    {
     "data": {
      "application/vnd.jupyter.widget-view+json": {
       "model_id": "6a47a2edc32e43a089f4ab43a23c32b0",
       "version_major": 2,
       "version_minor": 0
      },
      "text/plain": [
       "Casting to class labels:   0%|          | 0/87947 [00:00<?, ? examples/s]"
      ]
     },
     "metadata": {},
     "output_type": "display_data"
    }
   ],
   "source": [
    "dataset = dataset.class_encode_column(\"label\")"
   ]
  },
  {
   "cell_type": "code",
   "execution_count": 15,
   "metadata": {},
   "outputs": [
    {
     "data": {
      "text/plain": [
       "Dataset({\n",
       "    features: ['text', 'label'],\n",
       "    num_rows: 87947\n",
       "})"
      ]
     },
     "execution_count": 15,
     "metadata": {},
     "output_type": "execute_result"
    }
   ],
   "source": [
    "dataset"
   ]
  },
  {
   "cell_type": "code",
   "execution_count": 16,
   "metadata": {},
   "outputs": [],
   "source": [
    "num_classes = len(np.unique(dataset['label']))"
   ]
  },
  {
   "cell_type": "code",
   "execution_count": 17,
   "metadata": {},
   "outputs": [],
   "source": [
    "dataset = dataset.train_test_split(test_size=0.2)"
   ]
  },
  {
   "cell_type": "code",
   "execution_count": 18,
   "metadata": {},
   "outputs": [
    {
     "data": {
      "text/plain": [
       "DatasetDict({\n",
       "    train: Dataset({\n",
       "        features: ['text', 'label'],\n",
       "        num_rows: 70357\n",
       "    })\n",
       "    test: Dataset({\n",
       "        features: ['text', 'label'],\n",
       "        num_rows: 17590\n",
       "    })\n",
       "})"
      ]
     },
     "execution_count": 18,
     "metadata": {},
     "output_type": "execute_result"
    }
   ],
   "source": [
    "dataset"
   ]
  },
  {
   "cell_type": "code",
   "execution_count": 19,
   "metadata": {},
   "outputs": [
    {
     "name": "stderr",
     "output_type": "stream",
     "text": [
      "Some weights of the model checkpoint at distilbert-base-uncased were not used when initializing DistilBertForSequenceClassification: ['vocab_transform.bias', 'vocab_layer_norm.bias', 'vocab_transform.weight', 'vocab_layer_norm.weight', 'vocab_projector.bias', 'vocab_projector.weight']\n",
      "- This IS expected if you are initializing DistilBertForSequenceClassification from the checkpoint of a model trained on another task or with another architecture (e.g. initializing a BertForSequenceClassification model from a BertForPreTraining model).\n",
      "- This IS NOT expected if you are initializing DistilBertForSequenceClassification from the checkpoint of a model that you expect to be exactly identical (initializing a BertForSequenceClassification model from a BertForSequenceClassification model).\n",
      "Some weights of DistilBertForSequenceClassification were not initialized from the model checkpoint at distilbert-base-uncased and are newly initialized: ['classifier.bias', 'classifier.weight', 'pre_classifier.weight', 'pre_classifier.bias']\n",
      "You should probably TRAIN this model on a down-stream task to be able to use it for predictions and inference.\n"
     ]
    }
   ],
   "source": [
    "tokenizer = DistilBertTokenizerFast.from_pretrained(\"distilbert-base-uncased\")\n",
    "model = DistilBertForSequenceClassification.from_pretrained(\"distilbert-base-uncased\", num_labels=num_classes)"
   ]
  },
  {
   "cell_type": "code",
   "execution_count": 20,
   "metadata": {},
   "outputs": [
    {
     "data": {
      "application/vnd.jupyter.widget-view+json": {
       "model_id": "3892f43490ec45b594d88faf2b95df93",
       "version_major": 2,
       "version_minor": 0
      },
      "text/plain": [
       "Map:   0%|          | 0/70357 [00:00<?, ? examples/s]"
      ]
     },
     "metadata": {},
     "output_type": "display_data"
    },
    {
     "data": {
      "application/vnd.jupyter.widget-view+json": {
       "model_id": "a6e05d6f12184ade91ae5ab78dae0d06",
       "version_major": 2,
       "version_minor": 0
      },
      "text/plain": [
       "Map:   0%|          | 0/17590 [00:00<?, ? examples/s]"
      ]
     },
     "metadata": {},
     "output_type": "display_data"
    },
    {
     "name": "stderr",
     "output_type": "stream",
     "text": [
      "C:\\Users\\johnz\\AppData\\Local\\Temp\\ipykernel_16636\\3681801754.py:10: FutureWarning: load_metric is deprecated and will be removed in the next major version of datasets. Use 'evaluate.load' instead, from the new library 🤗 Evaluate: https://huggingface.co/docs/evaluate\n",
      "  accuracy = load_metric(\"accuracy\")\n",
      "c:\\Users\\johnz\\anaconda3\\envs\\celldl\\lib\\site-packages\\transformers\\optimization.py:391: FutureWarning: This implementation of AdamW is deprecated and will be removed in a future version. Use the PyTorch implementation torch.optim.AdamW instead, or set `no_deprecation_warning=True` to disable this warning\n",
      "  warnings.warn(\n"
     ]
    },
    {
     "data": {
      "application/vnd.jupyter.widget-view+json": {
       "model_id": "29fe330b248f4ecb918b85a8289d57eb",
       "version_major": 2,
       "version_minor": 0
      },
      "text/plain": [
       "  0%|          | 0/26385 [00:00<?, ?it/s]"
      ]
     },
     "metadata": {},
     "output_type": "display_data"
    },
    {
     "name": "stderr",
     "output_type": "stream",
     "text": [
      "You're using a DistilBertTokenizerFast tokenizer. Please note that with a fast tokenizer, using the `__call__` method is faster than using a method to encode the text followed by a call to the `pad` method to get a padded encoding.\n"
     ]
    },
    {
     "name": "stdout",
     "output_type": "stream",
     "text": [
      "{'loss': 0.8816, 'learning_rate': 4.9056281978396815e-05, 'epoch': 0.06}\n",
      "{'loss': 0.6644, 'learning_rate': 4.810877392457836e-05, 'epoch': 0.11}\n"
     ]
    }
   ],
   "source": [
    "def tokenize_function(examples):\n",
    "    return tokenizer(examples[\"text\"], padding=\"max_length\", truncation=True)\n",
    "\n",
    "# Tokenize the dataset\n",
    "tokenized_dataset = dataset.map(tokenize_function, batched=True)\n",
    "train_dataset = tokenized_dataset[\"train\"]\n",
    "test_dataset = tokenized_dataset[\"test\"]\n",
    "\n",
    "# Define the accuracy metric\n",
    "accuracy = load_metric(\"accuracy\")\n",
    "\n",
    "# Define the compute_metrics function\n",
    "def compute_metrics(eval_pred):\n",
    "    logits, labels = eval_pred\n",
    "    predictions = torch.argmax(torch.from_numpy(logits), dim=-1)\n",
    "    return accuracy.compute(predictions=predictions, references=labels)\n",
    "\n",
    "# Set up the training arguments\n",
    "training_args = TrainingArguments(\n",
    "    output_dir=\"output\",\n",
    "    num_train_epochs=3,\n",
    "    per_device_train_batch_size=8,\n",
    "    per_device_eval_batch_size=8,\n",
    "    evaluation_strategy=\"epoch\",\n",
    "    logging_dir=\"logs\",\n",
    "    logging_strategy=\"steps\",\n",
    "    logging_steps=500,\n",
    "    save_strategy=\"epoch\",\n",
    "    load_best_model_at_end=True,\n",
    "    metric_for_best_model=\"accuracy\",\n",
    "    fp16=True, \n",
    ")\n",
    "\n",
    "\n",
    "# Create the trainer\n",
    "trainer = Trainer(\n",
    "    model=model,\n",
    "    args=training_args,\n",
    "    train_dataset=train_dataset,\n",
    "    eval_dataset=test_dataset,\n",
    "    tokenizer=tokenizer,\n",
    "    compute_metrics=compute_metrics,\n",
    ")\n",
    "\n",
    "# Train the model\n",
    "trainer.train()\n",
    "\n",
    "# Evaluate the model\n",
    "trainer.evaluate()"
   ]
  },
  {
   "cell_type": "code",
   "execution_count": null,
   "metadata": {},
   "outputs": [],
   "source": []
  }
 ],
 "metadata": {
  "kernelspec": {
   "display_name": "celldl",
   "language": "python",
   "name": "python3"
  },
  "language_info": {
   "codemirror_mode": {
    "name": "ipython",
    "version": 3
   },
   "file_extension": ".py",
   "mimetype": "text/x-python",
   "name": "python",
   "nbconvert_exporter": "python",
   "pygments_lexer": "ipython3",
   "version": "3.9.13"
  },
  "orig_nbformat": 4
 },
 "nbformat": 4,
 "nbformat_minor": 2
}
