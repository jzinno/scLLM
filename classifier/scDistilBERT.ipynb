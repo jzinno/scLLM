{
 "cells": [
  {
   "cell_type": "code",
   "execution_count": 1,
   "metadata": {},
   "outputs": [],
   "source": [
    "import numpy as np\n",
    "import pandas as pd\n",
    "import scanpy\n",
    "import cell2sentence\n",
    "import torch\n",
    "from transformers import DistilBertForSequenceClassification, DistilBertTokenizerFast, Trainer, TrainingArguments\n",
    "from datasets import load_dataset, load_metric, Dataset"
   ]
  },
  {
   "cell_type": "code",
   "execution_count": 2,
   "metadata": {},
   "outputs": [],
   "source": [
    "eso = scanpy.read_h5ad(\"data/eso.h5ad\")"
   ]
  },
  {
   "cell_type": "code",
   "execution_count": 3,
   "metadata": {},
   "outputs": [
    {
     "data": {
      "text/html": [
       "<div>\n",
       "<style scoped>\n",
       "    .dataframe tbody tr th:only-of-type {\n",
       "        vertical-align: middle;\n",
       "    }\n",
       "\n",
       "    .dataframe tbody tr th {\n",
       "        vertical-align: top;\n",
       "    }\n",
       "\n",
       "    .dataframe thead th {\n",
       "        text-align: right;\n",
       "    }\n",
       "</style>\n",
       "<table border=\"1\" class=\"dataframe\">\n",
       "  <thead>\n",
       "    <tr style=\"text-align: right;\">\n",
       "      <th></th>\n",
       "      <th>donor_id</th>\n",
       "      <th>Time</th>\n",
       "      <th>donor_time</th>\n",
       "      <th>organ</th>\n",
       "      <th>sample</th>\n",
       "      <th>n_genes</th>\n",
       "      <th>percent_mito</th>\n",
       "      <th>n_counts</th>\n",
       "      <th>leiden</th>\n",
       "      <th>assay_ontology_term_id</th>\n",
       "      <th>...</th>\n",
       "      <th>author_cell_type</th>\n",
       "      <th>suspension_type</th>\n",
       "      <th>cell_type</th>\n",
       "      <th>assay</th>\n",
       "      <th>disease</th>\n",
       "      <th>organism</th>\n",
       "      <th>sex</th>\n",
       "      <th>tissue</th>\n",
       "      <th>self_reported_ethnicity</th>\n",
       "      <th>development_stage</th>\n",
       "    </tr>\n",
       "    <tr>\n",
       "      <th>index</th>\n",
       "      <th></th>\n",
       "      <th></th>\n",
       "      <th></th>\n",
       "      <th></th>\n",
       "      <th></th>\n",
       "      <th></th>\n",
       "      <th></th>\n",
       "      <th></th>\n",
       "      <th></th>\n",
       "      <th></th>\n",
       "      <th></th>\n",
       "      <th></th>\n",
       "      <th></th>\n",
       "      <th></th>\n",
       "      <th></th>\n",
       "      <th></th>\n",
       "      <th></th>\n",
       "      <th></th>\n",
       "      <th></th>\n",
       "      <th></th>\n",
       "      <th></th>\n",
       "    </tr>\n",
       "  </thead>\n",
       "  <tbody>\n",
       "    <tr>\n",
       "      <th>AAACCTGAGAAGGTTT-1-HCATisStab7413619</th>\n",
       "      <td>328C</td>\n",
       "      <td>0h</td>\n",
       "      <td>328C_0h</td>\n",
       "      <td>Oesophagus</td>\n",
       "      <td>HCATisStab7413619</td>\n",
       "      <td>1976.0</td>\n",
       "      <td>0.043828</td>\n",
       "      <td>9948.0</td>\n",
       "      <td>2</td>\n",
       "      <td>EFO:0009899</td>\n",
       "      <td>...</td>\n",
       "      <td>Epi_stratified</td>\n",
       "      <td>cell</td>\n",
       "      <td>stratified epithelial cell</td>\n",
       "      <td>10x 3' v2</td>\n",
       "      <td>normal</td>\n",
       "      <td>Homo sapiens</td>\n",
       "      <td>female</td>\n",
       "      <td>epithelium of esophagus</td>\n",
       "      <td>unknown</td>\n",
       "      <td>sixth decade human stage</td>\n",
       "    </tr>\n",
       "    <tr>\n",
       "      <th>AAACCTGAGAGTCTGG-1-HCATisStab7413619</th>\n",
       "      <td>328C</td>\n",
       "      <td>0h</td>\n",
       "      <td>328C_0h</td>\n",
       "      <td>Oesophagus</td>\n",
       "      <td>HCATisStab7413619</td>\n",
       "      <td>1960.0</td>\n",
       "      <td>0.057559</td>\n",
       "      <td>8096.0</td>\n",
       "      <td>4</td>\n",
       "      <td>EFO:0009899</td>\n",
       "      <td>...</td>\n",
       "      <td>Epi_stratified</td>\n",
       "      <td>cell</td>\n",
       "      <td>stratified epithelial cell</td>\n",
       "      <td>10x 3' v2</td>\n",
       "      <td>normal</td>\n",
       "      <td>Homo sapiens</td>\n",
       "      <td>female</td>\n",
       "      <td>epithelium of esophagus</td>\n",
       "      <td>unknown</td>\n",
       "      <td>sixth decade human stage</td>\n",
       "    </tr>\n",
       "    <tr>\n",
       "      <th>AAACCTGAGCCCAATT-1-HCATisStab7413619</th>\n",
       "      <td>328C</td>\n",
       "      <td>0h</td>\n",
       "      <td>328C_0h</td>\n",
       "      <td>Oesophagus</td>\n",
       "      <td>HCATisStab7413619</td>\n",
       "      <td>1598.0</td>\n",
       "      <td>0.054264</td>\n",
       "      <td>5805.0</td>\n",
       "      <td>0</td>\n",
       "      <td>EFO:0009899</td>\n",
       "      <td>...</td>\n",
       "      <td>Epi_stratified</td>\n",
       "      <td>cell</td>\n",
       "      <td>stratified epithelial cell</td>\n",
       "      <td>10x 3' v2</td>\n",
       "      <td>normal</td>\n",
       "      <td>Homo sapiens</td>\n",
       "      <td>female</td>\n",
       "      <td>epithelium of esophagus</td>\n",
       "      <td>unknown</td>\n",
       "      <td>sixth decade human stage</td>\n",
       "    </tr>\n",
       "    <tr>\n",
       "      <th>AAACCTGCATGCCCGA-1-HCATisStab7413619</th>\n",
       "      <td>328C</td>\n",
       "      <td>0h</td>\n",
       "      <td>328C_0h</td>\n",
       "      <td>Oesophagus</td>\n",
       "      <td>HCATisStab7413619</td>\n",
       "      <td>1805.0</td>\n",
       "      <td>0.045907</td>\n",
       "      <td>9345.0</td>\n",
       "      <td>2</td>\n",
       "      <td>EFO:0009899</td>\n",
       "      <td>...</td>\n",
       "      <td>Epi_stratified</td>\n",
       "      <td>cell</td>\n",
       "      <td>stratified epithelial cell</td>\n",
       "      <td>10x 3' v2</td>\n",
       "      <td>normal</td>\n",
       "      <td>Homo sapiens</td>\n",
       "      <td>female</td>\n",
       "      <td>epithelium of esophagus</td>\n",
       "      <td>unknown</td>\n",
       "      <td>sixth decade human stage</td>\n",
       "    </tr>\n",
       "    <tr>\n",
       "      <th>AAACCTGTCGAACGGA-1-HCATisStab7413619</th>\n",
       "      <td>328C</td>\n",
       "      <td>0h</td>\n",
       "      <td>328C_0h</td>\n",
       "      <td>Oesophagus</td>\n",
       "      <td>HCATisStab7413619</td>\n",
       "      <td>311.0</td>\n",
       "      <td>0.043103</td>\n",
       "      <td>580.0</td>\n",
       "      <td>9</td>\n",
       "      <td>EFO:0009899</td>\n",
       "      <td>...</td>\n",
       "      <td>T_CD4</td>\n",
       "      <td>cell</td>\n",
       "      <td>CD4-positive, alpha-beta T cell</td>\n",
       "      <td>10x 3' v2</td>\n",
       "      <td>normal</td>\n",
       "      <td>Homo sapiens</td>\n",
       "      <td>female</td>\n",
       "      <td>epithelium of esophagus</td>\n",
       "      <td>unknown</td>\n",
       "      <td>sixth decade human stage</td>\n",
       "    </tr>\n",
       "    <tr>\n",
       "      <th>...</th>\n",
       "      <td>...</td>\n",
       "      <td>...</td>\n",
       "      <td>...</td>\n",
       "      <td>...</td>\n",
       "      <td>...</td>\n",
       "      <td>...</td>\n",
       "      <td>...</td>\n",
       "      <td>...</td>\n",
       "      <td>...</td>\n",
       "      <td>...</td>\n",
       "      <td>...</td>\n",
       "      <td>...</td>\n",
       "      <td>...</td>\n",
       "      <td>...</td>\n",
       "      <td>...</td>\n",
       "      <td>...</td>\n",
       "      <td>...</td>\n",
       "      <td>...</td>\n",
       "      <td>...</td>\n",
       "      <td>...</td>\n",
       "      <td>...</td>\n",
       "    </tr>\n",
       "    <tr>\n",
       "      <th>TTTGTCACATTGGCGC-1-HCATisStabAug177376568</th>\n",
       "      <td>325C</td>\n",
       "      <td>72h</td>\n",
       "      <td>325C_72h</td>\n",
       "      <td>Oesophagus</td>\n",
       "      <td>HCATisStabAug177376568</td>\n",
       "      <td>1205.0</td>\n",
       "      <td>0.002706</td>\n",
       "      <td>11455.0</td>\n",
       "      <td>5</td>\n",
       "      <td>EFO:0009899</td>\n",
       "      <td>...</td>\n",
       "      <td>Epi_upper</td>\n",
       "      <td>cell</td>\n",
       "      <td>epithelial cell</td>\n",
       "      <td>10x 3' v2</td>\n",
       "      <td>normal</td>\n",
       "      <td>Homo sapiens</td>\n",
       "      <td>female</td>\n",
       "      <td>epithelium of esophagus</td>\n",
       "      <td>unknown</td>\n",
       "      <td>fifth decade human stage</td>\n",
       "    </tr>\n",
       "    <tr>\n",
       "      <th>TTTGTCAGTACCGTTA-1-HCATisStabAug177376568</th>\n",
       "      <td>325C</td>\n",
       "      <td>72h</td>\n",
       "      <td>325C_72h</td>\n",
       "      <td>Oesophagus</td>\n",
       "      <td>HCATisStabAug177376568</td>\n",
       "      <td>2462.0</td>\n",
       "      <td>0.048540</td>\n",
       "      <td>11887.0</td>\n",
       "      <td>3</td>\n",
       "      <td>EFO:0009899</td>\n",
       "      <td>...</td>\n",
       "      <td>Epi_suprabasal</td>\n",
       "      <td>cell</td>\n",
       "      <td>epithelial cell</td>\n",
       "      <td>10x 3' v2</td>\n",
       "      <td>normal</td>\n",
       "      <td>Homo sapiens</td>\n",
       "      <td>female</td>\n",
       "      <td>epithelium of esophagus</td>\n",
       "      <td>unknown</td>\n",
       "      <td>fifth decade human stage</td>\n",
       "    </tr>\n",
       "    <tr>\n",
       "      <th>TTTGTCAGTCTGCCAG-1-HCATisStabAug177376568</th>\n",
       "      <td>325C</td>\n",
       "      <td>72h</td>\n",
       "      <td>325C_72h</td>\n",
       "      <td>Oesophagus</td>\n",
       "      <td>HCATisStabAug177376568</td>\n",
       "      <td>2314.0</td>\n",
       "      <td>0.062985</td>\n",
       "      <td>10050.0</td>\n",
       "      <td>0</td>\n",
       "      <td>EFO:0009899</td>\n",
       "      <td>...</td>\n",
       "      <td>Epi_stratified</td>\n",
       "      <td>cell</td>\n",
       "      <td>stratified epithelial cell</td>\n",
       "      <td>10x 3' v2</td>\n",
       "      <td>normal</td>\n",
       "      <td>Homo sapiens</td>\n",
       "      <td>female</td>\n",
       "      <td>epithelium of esophagus</td>\n",
       "      <td>unknown</td>\n",
       "      <td>fifth decade human stage</td>\n",
       "    </tr>\n",
       "    <tr>\n",
       "      <th>TTTGTCAGTTTGACAC-1-HCATisStabAug177376568</th>\n",
       "      <td>325C</td>\n",
       "      <td>72h</td>\n",
       "      <td>325C_72h</td>\n",
       "      <td>Oesophagus</td>\n",
       "      <td>HCATisStabAug177376568</td>\n",
       "      <td>1108.0</td>\n",
       "      <td>0.053808</td>\n",
       "      <td>2639.0</td>\n",
       "      <td>3</td>\n",
       "      <td>EFO:0009899</td>\n",
       "      <td>...</td>\n",
       "      <td>Epi_suprabasal</td>\n",
       "      <td>cell</td>\n",
       "      <td>epithelial cell</td>\n",
       "      <td>10x 3' v2</td>\n",
       "      <td>normal</td>\n",
       "      <td>Homo sapiens</td>\n",
       "      <td>female</td>\n",
       "      <td>epithelium of esophagus</td>\n",
       "      <td>unknown</td>\n",
       "      <td>fifth decade human stage</td>\n",
       "    </tr>\n",
       "    <tr>\n",
       "      <th>TTTGTCATCAGTTCGA-1-HCATisStabAug177376568</th>\n",
       "      <td>325C</td>\n",
       "      <td>72h</td>\n",
       "      <td>325C_72h</td>\n",
       "      <td>Oesophagus</td>\n",
       "      <td>HCATisStabAug177376568</td>\n",
       "      <td>2108.0</td>\n",
       "      <td>0.072790</td>\n",
       "      <td>9342.0</td>\n",
       "      <td>3</td>\n",
       "      <td>EFO:0009899</td>\n",
       "      <td>...</td>\n",
       "      <td>Epi_suprabasal</td>\n",
       "      <td>cell</td>\n",
       "      <td>epithelial cell</td>\n",
       "      <td>10x 3' v2</td>\n",
       "      <td>normal</td>\n",
       "      <td>Homo sapiens</td>\n",
       "      <td>female</td>\n",
       "      <td>epithelium of esophagus</td>\n",
       "      <td>unknown</td>\n",
       "      <td>fifth decade human stage</td>\n",
       "    </tr>\n",
       "  </tbody>\n",
       "</table>\n",
       "<p>87947 rows × 28 columns</p>\n",
       "</div>"
      ],
      "text/plain": [
       "                                          donor_id Time donor_time  \\\n",
       "index                                                                \n",
       "AAACCTGAGAAGGTTT-1-HCATisStab7413619          328C   0h    328C_0h   \n",
       "AAACCTGAGAGTCTGG-1-HCATisStab7413619          328C   0h    328C_0h   \n",
       "AAACCTGAGCCCAATT-1-HCATisStab7413619          328C   0h    328C_0h   \n",
       "AAACCTGCATGCCCGA-1-HCATisStab7413619          328C   0h    328C_0h   \n",
       "AAACCTGTCGAACGGA-1-HCATisStab7413619          328C   0h    328C_0h   \n",
       "...                                            ...  ...        ...   \n",
       "TTTGTCACATTGGCGC-1-HCATisStabAug177376568     325C  72h   325C_72h   \n",
       "TTTGTCAGTACCGTTA-1-HCATisStabAug177376568     325C  72h   325C_72h   \n",
       "TTTGTCAGTCTGCCAG-1-HCATisStabAug177376568     325C  72h   325C_72h   \n",
       "TTTGTCAGTTTGACAC-1-HCATisStabAug177376568     325C  72h   325C_72h   \n",
       "TTTGTCATCAGTTCGA-1-HCATisStabAug177376568     325C  72h   325C_72h   \n",
       "\n",
       "                                                organ                  sample  \\\n",
       "index                                                                           \n",
       "AAACCTGAGAAGGTTT-1-HCATisStab7413619       Oesophagus       HCATisStab7413619   \n",
       "AAACCTGAGAGTCTGG-1-HCATisStab7413619       Oesophagus       HCATisStab7413619   \n",
       "AAACCTGAGCCCAATT-1-HCATisStab7413619       Oesophagus       HCATisStab7413619   \n",
       "AAACCTGCATGCCCGA-1-HCATisStab7413619       Oesophagus       HCATisStab7413619   \n",
       "AAACCTGTCGAACGGA-1-HCATisStab7413619       Oesophagus       HCATisStab7413619   \n",
       "...                                               ...                     ...   \n",
       "TTTGTCACATTGGCGC-1-HCATisStabAug177376568  Oesophagus  HCATisStabAug177376568   \n",
       "TTTGTCAGTACCGTTA-1-HCATisStabAug177376568  Oesophagus  HCATisStabAug177376568   \n",
       "TTTGTCAGTCTGCCAG-1-HCATisStabAug177376568  Oesophagus  HCATisStabAug177376568   \n",
       "TTTGTCAGTTTGACAC-1-HCATisStabAug177376568  Oesophagus  HCATisStabAug177376568   \n",
       "TTTGTCATCAGTTCGA-1-HCATisStabAug177376568  Oesophagus  HCATisStabAug177376568   \n",
       "\n",
       "                                           n_genes  percent_mito  n_counts  \\\n",
       "index                                                                        \n",
       "AAACCTGAGAAGGTTT-1-HCATisStab7413619        1976.0      0.043828    9948.0   \n",
       "AAACCTGAGAGTCTGG-1-HCATisStab7413619        1960.0      0.057559    8096.0   \n",
       "AAACCTGAGCCCAATT-1-HCATisStab7413619        1598.0      0.054264    5805.0   \n",
       "AAACCTGCATGCCCGA-1-HCATisStab7413619        1805.0      0.045907    9345.0   \n",
       "AAACCTGTCGAACGGA-1-HCATisStab7413619         311.0      0.043103     580.0   \n",
       "...                                            ...           ...       ...   \n",
       "TTTGTCACATTGGCGC-1-HCATisStabAug177376568   1205.0      0.002706   11455.0   \n",
       "TTTGTCAGTACCGTTA-1-HCATisStabAug177376568   2462.0      0.048540   11887.0   \n",
       "TTTGTCAGTCTGCCAG-1-HCATisStabAug177376568   2314.0      0.062985   10050.0   \n",
       "TTTGTCAGTTTGACAC-1-HCATisStabAug177376568   1108.0      0.053808    2639.0   \n",
       "TTTGTCATCAGTTCGA-1-HCATisStabAug177376568   2108.0      0.072790    9342.0   \n",
       "\n",
       "                                          leiden assay_ontology_term_id  ...  \\\n",
       "index                                                                    ...   \n",
       "AAACCTGAGAAGGTTT-1-HCATisStab7413619           2            EFO:0009899  ...   \n",
       "AAACCTGAGAGTCTGG-1-HCATisStab7413619           4            EFO:0009899  ...   \n",
       "AAACCTGAGCCCAATT-1-HCATisStab7413619           0            EFO:0009899  ...   \n",
       "AAACCTGCATGCCCGA-1-HCATisStab7413619           2            EFO:0009899  ...   \n",
       "AAACCTGTCGAACGGA-1-HCATisStab7413619           9            EFO:0009899  ...   \n",
       "...                                          ...                    ...  ...   \n",
       "TTTGTCACATTGGCGC-1-HCATisStabAug177376568      5            EFO:0009899  ...   \n",
       "TTTGTCAGTACCGTTA-1-HCATisStabAug177376568      3            EFO:0009899  ...   \n",
       "TTTGTCAGTCTGCCAG-1-HCATisStabAug177376568      0            EFO:0009899  ...   \n",
       "TTTGTCAGTTTGACAC-1-HCATisStabAug177376568      3            EFO:0009899  ...   \n",
       "TTTGTCATCAGTTCGA-1-HCATisStabAug177376568      3            EFO:0009899  ...   \n",
       "\n",
       "                                          author_cell_type suspension_type  \\\n",
       "index                                                                        \n",
       "AAACCTGAGAAGGTTT-1-HCATisStab7413619        Epi_stratified            cell   \n",
       "AAACCTGAGAGTCTGG-1-HCATisStab7413619        Epi_stratified            cell   \n",
       "AAACCTGAGCCCAATT-1-HCATisStab7413619        Epi_stratified            cell   \n",
       "AAACCTGCATGCCCGA-1-HCATisStab7413619        Epi_stratified            cell   \n",
       "AAACCTGTCGAACGGA-1-HCATisStab7413619                 T_CD4            cell   \n",
       "...                                                    ...             ...   \n",
       "TTTGTCACATTGGCGC-1-HCATisStabAug177376568        Epi_upper            cell   \n",
       "TTTGTCAGTACCGTTA-1-HCATisStabAug177376568   Epi_suprabasal            cell   \n",
       "TTTGTCAGTCTGCCAG-1-HCATisStabAug177376568   Epi_stratified            cell   \n",
       "TTTGTCAGTTTGACAC-1-HCATisStabAug177376568   Epi_suprabasal            cell   \n",
       "TTTGTCATCAGTTCGA-1-HCATisStabAug177376568   Epi_suprabasal            cell   \n",
       "\n",
       "                                                                 cell_type  \\\n",
       "index                                                                        \n",
       "AAACCTGAGAAGGTTT-1-HCATisStab7413619            stratified epithelial cell   \n",
       "AAACCTGAGAGTCTGG-1-HCATisStab7413619            stratified epithelial cell   \n",
       "AAACCTGAGCCCAATT-1-HCATisStab7413619            stratified epithelial cell   \n",
       "AAACCTGCATGCCCGA-1-HCATisStab7413619            stratified epithelial cell   \n",
       "AAACCTGTCGAACGGA-1-HCATisStab7413619       CD4-positive, alpha-beta T cell   \n",
       "...                                                                    ...   \n",
       "TTTGTCACATTGGCGC-1-HCATisStabAug177376568                  epithelial cell   \n",
       "TTTGTCAGTACCGTTA-1-HCATisStabAug177376568                  epithelial cell   \n",
       "TTTGTCAGTCTGCCAG-1-HCATisStabAug177376568       stratified epithelial cell   \n",
       "TTTGTCAGTTTGACAC-1-HCATisStabAug177376568                  epithelial cell   \n",
       "TTTGTCATCAGTTCGA-1-HCATisStabAug177376568                  epithelial cell   \n",
       "\n",
       "                                               assay  disease      organism  \\\n",
       "index                                                                         \n",
       "AAACCTGAGAAGGTTT-1-HCATisStab7413619       10x 3' v2   normal  Homo sapiens   \n",
       "AAACCTGAGAGTCTGG-1-HCATisStab7413619       10x 3' v2   normal  Homo sapiens   \n",
       "AAACCTGAGCCCAATT-1-HCATisStab7413619       10x 3' v2   normal  Homo sapiens   \n",
       "AAACCTGCATGCCCGA-1-HCATisStab7413619       10x 3' v2   normal  Homo sapiens   \n",
       "AAACCTGTCGAACGGA-1-HCATisStab7413619       10x 3' v2   normal  Homo sapiens   \n",
       "...                                              ...      ...           ...   \n",
       "TTTGTCACATTGGCGC-1-HCATisStabAug177376568  10x 3' v2   normal  Homo sapiens   \n",
       "TTTGTCAGTACCGTTA-1-HCATisStabAug177376568  10x 3' v2   normal  Homo sapiens   \n",
       "TTTGTCAGTCTGCCAG-1-HCATisStabAug177376568  10x 3' v2   normal  Homo sapiens   \n",
       "TTTGTCAGTTTGACAC-1-HCATisStabAug177376568  10x 3' v2   normal  Homo sapiens   \n",
       "TTTGTCATCAGTTCGA-1-HCATisStabAug177376568  10x 3' v2   normal  Homo sapiens   \n",
       "\n",
       "                                              sex                   tissue  \\\n",
       "index                                                                        \n",
       "AAACCTGAGAAGGTTT-1-HCATisStab7413619       female  epithelium of esophagus   \n",
       "AAACCTGAGAGTCTGG-1-HCATisStab7413619       female  epithelium of esophagus   \n",
       "AAACCTGAGCCCAATT-1-HCATisStab7413619       female  epithelium of esophagus   \n",
       "AAACCTGCATGCCCGA-1-HCATisStab7413619       female  epithelium of esophagus   \n",
       "AAACCTGTCGAACGGA-1-HCATisStab7413619       female  epithelium of esophagus   \n",
       "...                                           ...                      ...   \n",
       "TTTGTCACATTGGCGC-1-HCATisStabAug177376568  female  epithelium of esophagus   \n",
       "TTTGTCAGTACCGTTA-1-HCATisStabAug177376568  female  epithelium of esophagus   \n",
       "TTTGTCAGTCTGCCAG-1-HCATisStabAug177376568  female  epithelium of esophagus   \n",
       "TTTGTCAGTTTGACAC-1-HCATisStabAug177376568  female  epithelium of esophagus   \n",
       "TTTGTCATCAGTTCGA-1-HCATisStabAug177376568  female  epithelium of esophagus   \n",
       "\n",
       "                                          self_reported_ethnicity  \\\n",
       "index                                                               \n",
       "AAACCTGAGAAGGTTT-1-HCATisStab7413619                      unknown   \n",
       "AAACCTGAGAGTCTGG-1-HCATisStab7413619                      unknown   \n",
       "AAACCTGAGCCCAATT-1-HCATisStab7413619                      unknown   \n",
       "AAACCTGCATGCCCGA-1-HCATisStab7413619                      unknown   \n",
       "AAACCTGTCGAACGGA-1-HCATisStab7413619                      unknown   \n",
       "...                                                           ...   \n",
       "TTTGTCACATTGGCGC-1-HCATisStabAug177376568                 unknown   \n",
       "TTTGTCAGTACCGTTA-1-HCATisStabAug177376568                 unknown   \n",
       "TTTGTCAGTCTGCCAG-1-HCATisStabAug177376568                 unknown   \n",
       "TTTGTCAGTTTGACAC-1-HCATisStabAug177376568                 unknown   \n",
       "TTTGTCATCAGTTCGA-1-HCATisStabAug177376568                 unknown   \n",
       "\n",
       "                                                  development_stage  \n",
       "index                                                                \n",
       "AAACCTGAGAAGGTTT-1-HCATisStab7413619       sixth decade human stage  \n",
       "AAACCTGAGAGTCTGG-1-HCATisStab7413619       sixth decade human stage  \n",
       "AAACCTGAGCCCAATT-1-HCATisStab7413619       sixth decade human stage  \n",
       "AAACCTGCATGCCCGA-1-HCATisStab7413619       sixth decade human stage  \n",
       "AAACCTGTCGAACGGA-1-HCATisStab7413619       sixth decade human stage  \n",
       "...                                                             ...  \n",
       "TTTGTCACATTGGCGC-1-HCATisStabAug177376568  fifth decade human stage  \n",
       "TTTGTCAGTACCGTTA-1-HCATisStabAug177376568  fifth decade human stage  \n",
       "TTTGTCAGTCTGCCAG-1-HCATisStabAug177376568  fifth decade human stage  \n",
       "TTTGTCAGTTTGACAC-1-HCATisStabAug177376568  fifth decade human stage  \n",
       "TTTGTCATCAGTTCGA-1-HCATisStabAug177376568  fifth decade human stage  \n",
       "\n",
       "[87947 rows x 28 columns]"
      ]
     },
     "execution_count": 3,
     "metadata": {},
     "output_type": "execute_result"
    }
   ],
   "source": [
    "eso.obs"
   ]
  },
  {
   "cell_type": "code",
   "execution_count": 4,
   "metadata": {},
   "outputs": [
    {
     "name": "stderr",
     "output_type": "stream",
     "text": [
      "100%|██████████| 87947/87947 [00:32<00:00, 2715.93it/s]\n"
     ]
    }
   ],
   "source": [
    "eso_c2s = cell2sentence.transforms.csdata_from_adata(eso)"
   ]
  },
  {
   "cell_type": "code",
   "execution_count": 5,
   "metadata": {},
   "outputs": [],
   "source": [
    "cell_sents = eso_c2s.create_sentence_lists()"
   ]
  },
  {
   "cell_type": "code",
   "execution_count": 6,
   "metadata": {},
   "outputs": [],
   "source": [
    "labels = eso.obs['cell_type'].values\n",
    "labels = [str(label) for label in labels]"
   ]
  },
  {
   "cell_type": "code",
   "execution_count": 7,
   "metadata": {},
   "outputs": [],
   "source": [
    "label2id = dict(enumerate(np.unique(labels)))"
   ]
  },
  {
   "cell_type": "code",
   "execution_count": 8,
   "metadata": {},
   "outputs": [],
   "source": [
    "del(eso, eso_c2s)"
   ]
  },
  {
   "cell_type": "code",
   "execution_count": 9,
   "metadata": {},
   "outputs": [],
   "source": [
    "cell_sents = [inner_list[:100] for inner_list in cell_sents]"
   ]
  },
  {
   "cell_type": "code",
   "execution_count": 10,
   "metadata": {},
   "outputs": [],
   "source": [
    "cell_sents = [' '.join(inner_list) for inner_list in cell_sents]"
   ]
  },
  {
   "cell_type": "code",
   "execution_count": 11,
   "metadata": {},
   "outputs": [],
   "source": [
    "# Create a pandas DataFrame with the sentences and labels\n",
    "data = {\"text\": cell_sents, \"label\": labels}"
   ]
  },
  {
   "cell_type": "code",
   "execution_count": 12,
   "metadata": {},
   "outputs": [],
   "source": [
    "del(cell_sents, labels)"
   ]
  },
  {
   "cell_type": "code",
   "execution_count": 13,
   "metadata": {},
   "outputs": [],
   "source": [
    "# Create the dataset from the pandas DataFrame\n",
    "dataset = Dataset.from_dict(data)"
   ]
  },
  {
   "cell_type": "code",
   "execution_count": 14,
   "metadata": {},
   "outputs": [
    {
     "data": {
      "application/vnd.jupyter.widget-view+json": {
       "model_id": "e26064e8451341c88ac3de37950efc48",
       "version_major": 2,
       "version_minor": 0
      },
      "text/plain": [
       "Casting to class labels:   0%|          | 0/87947 [00:00<?, ? examples/s]"
      ]
     },
     "metadata": {},
     "output_type": "display_data"
    }
   ],
   "source": [
    "dataset = dataset.class_encode_column(\"label\")"
   ]
  },
  {
   "cell_type": "code",
   "execution_count": 15,
   "metadata": {},
   "outputs": [
    {
     "data": {
      "text/plain": [
       "Dataset({\n",
       "    features: ['text', 'label'],\n",
       "    num_rows: 87947\n",
       "})"
      ]
     },
     "execution_count": 15,
     "metadata": {},
     "output_type": "execute_result"
    }
   ],
   "source": [
    "dataset"
   ]
  },
  {
   "cell_type": "code",
   "execution_count": 16,
   "metadata": {},
   "outputs": [],
   "source": [
    "num_classes = len(np.unique(dataset['label']))"
   ]
  },
  {
   "cell_type": "code",
   "execution_count": 17,
   "metadata": {},
   "outputs": [],
   "source": [
    "dataset = dataset.train_test_split(test_size=0.2)"
   ]
  },
  {
   "cell_type": "code",
   "execution_count": 18,
   "metadata": {},
   "outputs": [
    {
     "data": {
      "text/plain": [
       "DatasetDict({\n",
       "    train: Dataset({\n",
       "        features: ['text', 'label'],\n",
       "        num_rows: 70357\n",
       "    })\n",
       "    test: Dataset({\n",
       "        features: ['text', 'label'],\n",
       "        num_rows: 17590\n",
       "    })\n",
       "})"
      ]
     },
     "execution_count": 18,
     "metadata": {},
     "output_type": "execute_result"
    }
   ],
   "source": [
    "dataset"
   ]
  },
  {
   "cell_type": "code",
   "execution_count": 19,
   "metadata": {},
   "outputs": [
    {
     "name": "stderr",
     "output_type": "stream",
     "text": [
      "Some weights of the model checkpoint at distilbert-base-uncased were not used when initializing DistilBertForSequenceClassification: ['vocab_transform.weight', 'vocab_layer_norm.bias', 'vocab_transform.bias', 'vocab_projector.bias', 'vocab_projector.weight', 'vocab_layer_norm.weight']\n",
      "- This IS expected if you are initializing DistilBertForSequenceClassification from the checkpoint of a model trained on another task or with another architecture (e.g. initializing a BertForSequenceClassification model from a BertForPreTraining model).\n",
      "- This IS NOT expected if you are initializing DistilBertForSequenceClassification from the checkpoint of a model that you expect to be exactly identical (initializing a BertForSequenceClassification model from a BertForSequenceClassification model).\n",
      "Some weights of DistilBertForSequenceClassification were not initialized from the model checkpoint at distilbert-base-uncased and are newly initialized: ['classifier.weight', 'pre_classifier.bias', 'pre_classifier.weight', 'classifier.bias']\n",
      "You should probably TRAIN this model on a down-stream task to be able to use it for predictions and inference.\n"
     ]
    }
   ],
   "source": [
    "tokenizer = DistilBertTokenizerFast.from_pretrained(\"distilbert-base-uncased\")\n",
    "model = DistilBertForSequenceClassification.from_pretrained(\"distilbert-base-uncased\", num_labels=num_classes)"
   ]
  },
  {
   "cell_type": "code",
   "execution_count": 20,
   "metadata": {},
   "outputs": [
    {
     "data": {
      "application/vnd.jupyter.widget-view+json": {
       "model_id": "569e90d5ec964975b370bd9247a51f34",
       "version_major": 2,
       "version_minor": 0
      },
      "text/plain": [
       "Map:   0%|          | 0/70357 [00:00<?, ? examples/s]"
      ]
     },
     "metadata": {},
     "output_type": "display_data"
    },
    {
     "data": {
      "application/vnd.jupyter.widget-view+json": {
       "model_id": "51441d3da2bd47b3b9285a6e5e0d8f10",
       "version_major": 2,
       "version_minor": 0
      },
      "text/plain": [
       "Map:   0%|          | 0/17590 [00:00<?, ? examples/s]"
      ]
     },
     "metadata": {},
     "output_type": "display_data"
    },
    {
     "name": "stderr",
     "output_type": "stream",
     "text": [
      "C:\\Users\\johnz\\AppData\\Local\\Temp\\ipykernel_18452\\2660176186.py:10: FutureWarning: load_metric is deprecated and will be removed in the next major version of datasets. Use 'evaluate.load' instead, from the new library 🤗 Evaluate: https://huggingface.co/docs/evaluate\n",
      "  accuracy = load_metric(\"accuracy\")\n",
      "c:\\Users\\johnz\\anaconda3\\envs\\celldl\\lib\\site-packages\\transformers\\optimization.py:391: FutureWarning: This implementation of AdamW is deprecated and will be removed in a future version. Use the PyTorch implementation torch.optim.AdamW instead, or set `no_deprecation_warning=True` to disable this warning\n",
      "  warnings.warn(\n"
     ]
    },
    {
     "data": {
      "application/vnd.jupyter.widget-view+json": {
       "model_id": "e2af04f7d56247a28489d8f827e855c2",
       "version_major": 2,
       "version_minor": 0
      },
      "text/plain": [
       "  0%|          | 0/13194 [00:00<?, ?it/s]"
      ]
     },
     "metadata": {},
     "output_type": "display_data"
    },
    {
     "name": "stderr",
     "output_type": "stream",
     "text": [
      "You're using a DistilBertTokenizerFast tokenizer. Please note that with a fast tokenizer, using the `__call__` method is faster than using a method to encode the text followed by a call to the `pad` method to get a padded encoding.\n"
     ]
    },
    {
     "name": "stdout",
     "output_type": "stream",
     "text": [
      "{'loss': 1.1501, 'learning_rate': 4.9056389267849026e-05, 'epoch': 0.06}\n",
      "{'loss': 1.0584, 'learning_rate': 4.810898893436411e-05, 'epoch': 0.11}\n",
      "{'loss': 0.9484, 'learning_rate': 4.716537820221313e-05, 'epoch': 0.17}\n",
      "{'loss': 0.9636, 'learning_rate': 4.621797786872821e-05, 'epoch': 0.23}\n",
      "{'loss': 0.8441, 'learning_rate': 4.5270577535243294e-05, 'epoch': 0.28}\n",
      "{'loss': 0.744, 'learning_rate': 4.432696680309232e-05, 'epoch': 0.34}\n",
      "{'loss': 0.6765, 'learning_rate': 4.33795664696074e-05, 'epoch': 0.4}\n",
      "{'loss': 0.6339, 'learning_rate': 4.243216613612248e-05, 'epoch': 0.45}\n",
      "{'loss': 0.5774, 'learning_rate': 4.1488555403971505e-05, 'epoch': 0.51}\n",
      "{'loss': 0.5642, 'learning_rate': 4.0541155070486586e-05, 'epoch': 0.57}\n",
      "{'loss': 0.5388, 'learning_rate': 3.959375473700167e-05, 'epoch': 0.63}\n",
      "{'loss': 0.5354, 'learning_rate': 3.8646354403516756e-05, 'epoch': 0.68}\n",
      "{'loss': 0.5379, 'learning_rate': 3.769895407003183e-05, 'epoch': 0.74}\n",
      "{'loss': 0.5041, 'learning_rate': 3.675155373654692e-05, 'epoch': 0.8}\n",
      "{'loss': 0.5129, 'learning_rate': 3.5804153403062e-05, 'epoch': 0.85}\n",
      "{'loss': 0.5046, 'learning_rate': 3.485675306957708e-05, 'epoch': 0.91}\n",
      "{'loss': 0.4873, 'learning_rate': 3.390935273609216e-05, 'epoch': 0.97}\n"
     ]
    },
    {
     "data": {
      "application/vnd.jupyter.widget-view+json": {
       "model_id": "2b7dbdf5279b45d1b446debc62940d60",
       "version_major": 2,
       "version_minor": 0
      },
      "text/plain": [
       "  0%|          | 0/1100 [00:00<?, ?it/s]"
      ]
     },
     "metadata": {},
     "output_type": "display_data"
    },
    {
     "name": "stdout",
     "output_type": "stream",
     "text": [
      "{'eval_loss': 0.4340948462486267, 'eval_accuracy': 0.8392268334280841, 'eval_runtime': 78.3012, 'eval_samples_per_second': 224.645, 'eval_steps_per_second': 14.048, 'epoch': 1.0}\n",
      "{'loss': 0.449, 'learning_rate': 3.296195240260725e-05, 'epoch': 1.02}\n",
      "{'loss': 0.4492, 'learning_rate': 3.2014552069122326e-05, 'epoch': 1.08}\n",
      "{'loss': 0.4267, 'learning_rate': 3.1067151735637414e-05, 'epoch': 1.14}\n",
      "{'loss': 0.436, 'learning_rate': 3.0119751402152495e-05, 'epoch': 1.19}\n",
      "{'loss': 0.4208, 'learning_rate': 2.9172351068667573e-05, 'epoch': 1.25}\n",
      "{'loss': 0.4062, 'learning_rate': 2.8224950735182658e-05, 'epoch': 1.31}\n",
      "{'loss': 0.413, 'learning_rate': 2.7277550401697743e-05, 'epoch': 1.36}\n",
      "{'loss': 0.3974, 'learning_rate': 2.6330150068212828e-05, 'epoch': 1.42}\n",
      "{'loss': 0.3823, 'learning_rate': 2.5382749734727906e-05, 'epoch': 1.48}\n",
      "{'loss': 0.353, 'learning_rate': 2.443534940124299e-05, 'epoch': 1.53}\n",
      "{'loss': 0.3607, 'learning_rate': 2.3487949067758072e-05, 'epoch': 1.59}\n",
      "{'loss': 0.3868, 'learning_rate': 2.2540548734273157e-05, 'epoch': 1.65}\n",
      "{'loss': 0.3707, 'learning_rate': 2.1596938002122177e-05, 'epoch': 1.71}\n",
      "{'loss': 0.3493, 'learning_rate': 2.0649537668637262e-05, 'epoch': 1.76}\n",
      "{'loss': 0.3578, 'learning_rate': 1.9702137335152343e-05, 'epoch': 1.82}\n",
      "{'loss': 0.3637, 'learning_rate': 1.8754737001667425e-05, 'epoch': 1.88}\n",
      "{'loss': 0.3321, 'learning_rate': 1.780733666818251e-05, 'epoch': 1.93}\n",
      "{'loss': 0.3341, 'learning_rate': 1.685993633469759e-05, 'epoch': 1.99}\n"
     ]
    },
    {
     "data": {
      "application/vnd.jupyter.widget-view+json": {
       "model_id": "9f799bdb509b429da1c75c96550ce602",
       "version_major": 2,
       "version_minor": 0
      },
      "text/plain": [
       "  0%|          | 0/1100 [00:00<?, ?it/s]"
      ]
     },
     "metadata": {},
     "output_type": "display_data"
    },
    {
     "name": "stdout",
     "output_type": "stream",
     "text": [
      "{'eval_loss': 0.33921748399734497, 'eval_accuracy': 0.8783968163729392, 'eval_runtime': 78.5893, 'eval_samples_per_second': 223.822, 'eval_steps_per_second': 13.997, 'epoch': 2.0}\n",
      "{'loss': 0.3264, 'learning_rate': 1.5916325602546615e-05, 'epoch': 2.05}\n",
      "{'loss': 0.3195, 'learning_rate': 1.4968925269061696e-05, 'epoch': 2.1}\n",
      "{'loss': 0.3208, 'learning_rate': 1.4021524935576778e-05, 'epoch': 2.16}\n",
      "{'loss': 0.3018, 'learning_rate': 1.307412460209186e-05, 'epoch': 2.22}\n",
      "{'loss': 0.299, 'learning_rate': 1.2126724268606942e-05, 'epoch': 2.27}\n",
      "{'loss': 0.299, 'learning_rate': 1.1179323935122025e-05, 'epoch': 2.33}\n",
      "{'loss': 0.3181, 'learning_rate': 1.0231923601637108e-05, 'epoch': 2.39}\n",
      "{'loss': 0.3093, 'learning_rate': 9.284523268152191e-06, 'epoch': 2.44}\n",
      "{'loss': 0.3142, 'learning_rate': 8.337122934667273e-06, 'epoch': 2.5}\n",
      "{'loss': 0.3066, 'learning_rate': 7.389722601182356e-06, 'epoch': 2.56}\n",
      "{'loss': 0.2745, 'learning_rate': 6.442322267697438e-06, 'epoch': 2.61}\n",
      "{'loss': 0.3225, 'learning_rate': 5.498711535546461e-06, 'epoch': 2.67}\n",
      "{'loss': 0.3085, 'learning_rate': 4.5513112020615434e-06, 'epoch': 2.73}\n",
      "{'loss': 0.2978, 'learning_rate': 3.6039108685766257e-06, 'epoch': 2.79}\n",
      "{'loss': 0.2915, 'learning_rate': 2.6565105350917084e-06, 'epoch': 2.84}\n",
      "{'loss': 0.3029, 'learning_rate': 1.7091102016067912e-06, 'epoch': 2.9}\n",
      "{'loss': 0.2959, 'learning_rate': 7.617098681218736e-07, 'epoch': 2.96}\n"
     ]
    },
    {
     "data": {
      "application/vnd.jupyter.widget-view+json": {
       "model_id": "3a3e06c9efad4f77b5610e30070038fa",
       "version_major": 2,
       "version_minor": 0
      },
      "text/plain": [
       "  0%|          | 0/1100 [00:00<?, ?it/s]"
      ]
     },
     "metadata": {},
     "output_type": "display_data"
    },
    {
     "name": "stdout",
     "output_type": "stream",
     "text": [
      "{'eval_loss': 0.30558696389198303, 'eval_accuracy': 0.8888004548038658, 'eval_runtime': 78.393, 'eval_samples_per_second': 224.382, 'eval_steps_per_second': 14.032, 'epoch': 3.0}\n",
      "{'train_runtime': 3198.745, 'train_samples_per_second': 65.986, 'train_steps_per_second': 4.125, 'train_loss': 0.4586493691766336, 'epoch': 3.0}\n"
     ]
    },
    {
     "data": {
      "application/vnd.jupyter.widget-view+json": {
       "model_id": "db284045f7a24934b38fffb89ea85782",
       "version_major": 2,
       "version_minor": 0
      },
      "text/plain": [
       "  0%|          | 0/1100 [00:00<?, ?it/s]"
      ]
     },
     "metadata": {},
     "output_type": "display_data"
    },
    {
     "data": {
      "text/plain": [
       "{'eval_loss': 0.30558696389198303,\n",
       " 'eval_accuracy': 0.8888004548038658,\n",
       " 'eval_runtime': 78.2943,\n",
       " 'eval_samples_per_second': 224.665,\n",
       " 'eval_steps_per_second': 14.05,\n",
       " 'epoch': 3.0}"
      ]
     },
     "execution_count": 20,
     "metadata": {},
     "output_type": "execute_result"
    }
   ],
   "source": [
    "def tokenize_function(examples):\n",
    "    return tokenizer(examples[\"text\"], padding=\"max_length\", truncation=True)\n",
    "\n",
    "# Tokenize the dataset\n",
    "tokenized_dataset = dataset.map(tokenize_function, batched=True)\n",
    "train_dataset = tokenized_dataset[\"train\"]\n",
    "test_dataset = tokenized_dataset[\"test\"]\n",
    "\n",
    "# Define the accuracy metric\n",
    "accuracy = load_metric(\"accuracy\")\n",
    "\n",
    "# Define the compute_metrics function\n",
    "def compute_metrics(eval_pred):\n",
    "    logits, labels = eval_pred\n",
    "    predictions = torch.argmax(torch.from_numpy(logits), dim=-1)\n",
    "    return accuracy.compute(predictions=predictions, references=labels)\n",
    "\n",
    "# Set up the training arguments\n",
    "training_args = TrainingArguments(\n",
    "    output_dir=\"output\",\n",
    "    num_train_epochs=3,\n",
    "    per_device_train_batch_size=16,\n",
    "    per_device_eval_batch_size=16,\n",
    "    evaluation_strategy=\"epoch\",\n",
    "    logging_dir=\"logs\",\n",
    "    logging_strategy=\"steps\",\n",
    "    logging_steps=250,\n",
    "    save_strategy=\"epoch\",\n",
    "    load_best_model_at_end=True,\n",
    "    metric_for_best_model=\"accuracy\",\n",
    "    fp16=True, \n",
    ")\n",
    "\n",
    "\n",
    "# Create the trainer\n",
    "trainer = Trainer(\n",
    "    model=model,\n",
    "    args=training_args,\n",
    "    train_dataset=train_dataset,\n",
    "    eval_dataset=test_dataset,\n",
    "    tokenizer=tokenizer,\n",
    "    compute_metrics=compute_metrics,\n",
    ")\n",
    "\n",
    "# Train the model\n",
    "trainer.train()\n",
    "\n",
    "# Evaluate the model\n",
    "trainer.evaluate()"
   ]
  },
  {
   "cell_type": "code",
   "execution_count": null,
   "metadata": {},
   "outputs": [],
   "source": []
  }
 ],
 "metadata": {
  "kernelspec": {
   "display_name": "celldl",
   "language": "python",
   "name": "python3"
  },
  "language_info": {
   "codemirror_mode": {
    "name": "ipython",
    "version": 3
   },
   "file_extension": ".py",
   "mimetype": "text/x-python",
   "name": "python",
   "nbconvert_exporter": "python",
   "pygments_lexer": "ipython3",
   "version": "3.9.13"
  },
  "orig_nbformat": 4
 },
 "nbformat": 4,
 "nbformat_minor": 2
}
